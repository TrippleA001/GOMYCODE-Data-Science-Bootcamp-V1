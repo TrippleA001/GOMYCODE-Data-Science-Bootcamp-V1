{
  "cells": [
    {
      "cell_type": "markdown",
      "id": "1390d8e7",
      "metadata": {
        "id": "1390d8e7"
      },
      "source": [
        "# While Loop"
      ]
    },
    {
      "cell_type": "markdown",
      "id": "03a2340b",
      "metadata": {
        "id": "03a2340b"
      },
      "source": [
        "**WAP to print following output.**"
      ]
    },
    {
      "cell_type": "code",
      "execution_count": null,
      "id": "63fc80f1",
      "metadata": {
        "id": "63fc80f1"
      },
      "outputs": [],
      "source": [
        "1/1  2/4  3/9  4/16  5/25  6/36  7/49  8/64  9/81  10/100"
      ]
    },
    {
      "cell_type": "code",
      "execution_count": 2,
      "id": "b4184bc3",
      "metadata": {
        "id": "b4184bc3",
        "colab": {
          "base_uri": "https://localhost:8080/"
        },
        "outputId": "88fd3596-7f60-4152-dbd8-b2c28a3feb88"
      },
      "outputs": [
        {
          "output_type": "stream",
          "name": "stdout",
          "text": [
            "1/1  2/4  3/9  4/16  5/25  6/36  7/49  8/64  9/81  10/100  "
          ]
        }
      ],
      "source": [
        "i = j = 1\n",
        "while i <= 10:\n",
        "  print(f\"{i}/{j}\", end = \"  \")\n",
        "  i += 1\n",
        "  j = i*i"
      ]
    },
    {
      "cell_type": "code",
      "execution_count": null,
      "id": "54991a5d",
      "metadata": {
        "id": "54991a5d"
      },
      "outputs": [],
      "source": [
        "55555\n",
        "4444\n",
        "333\n",
        "22\n",
        "1"
      ]
    },
    {
      "cell_type": "code",
      "source": [
        "i = j = 5\n",
        "while i > 0:\n",
        "  while j > 0:\n",
        "    print(i, end = \"\")\n",
        "    j -= 1\n",
        "  print()\n",
        "  i -= 1\n",
        "  j = i"
      ],
      "metadata": {
        "colab": {
          "base_uri": "https://localhost:8080/"
        },
        "id": "4AkssyFtkB5W",
        "outputId": "e8e20772-1f04-4dbd-a810-d4990744050a"
      },
      "id": "4AkssyFtkB5W",
      "execution_count": 17,
      "outputs": [
        {
          "output_type": "stream",
          "name": "stdout",
          "text": [
            "55555\n",
            "4444\n",
            "333\n",
            "22\n",
            "1\n"
          ]
        }
      ]
    },
    {
      "cell_type": "code",
      "execution_count": null,
      "id": "1b69ceb2",
      "metadata": {
        "id": "1b69ceb2"
      },
      "outputs": [],
      "source": [
        "54321\n",
        "5432\n",
        "543\n",
        "54\n",
        "5"
      ]
    },
    {
      "cell_type": "code",
      "source": [
        "i = j = 5\n",
        "while i > 0:\n",
        "  while j > 5 - i:\n",
        "    print(j, end = \"\")\n",
        "    j -= 1\n",
        "  print()\n",
        "  i -= 1\n",
        "  j = 5"
      ],
      "metadata": {
        "colab": {
          "base_uri": "https://localhost:8080/"
        },
        "id": "7rvuAzIRmZ_e",
        "outputId": "583fd731-432b-4b68-9854-7fa965b9a4e7"
      },
      "id": "7rvuAzIRmZ_e",
      "execution_count": 23,
      "outputs": [
        {
          "output_type": "stream",
          "name": "stdout",
          "text": [
            "54321\n",
            "5432\n",
            "543\n",
            "54\n",
            "5\n"
          ]
        }
      ]
    },
    {
      "cell_type": "code",
      "execution_count": null,
      "id": "b6cd6c04",
      "metadata": {
        "id": "b6cd6c04"
      },
      "outputs": [],
      "source": [
        "12345\n",
        "1234\n",
        "123\n",
        "12\n",
        "1"
      ]
    },
    {
      "cell_type": "code",
      "source": [
        "i = 5\n",
        "j = 1\n",
        "while i > 0:\n",
        "  while j <= i:\n",
        "    print(j, end = \"\")\n",
        "    j += 1\n",
        "  print()\n",
        "  i -= 1\n",
        "  j = 1"
      ],
      "metadata": {
        "colab": {
          "base_uri": "https://localhost:8080/"
        },
        "id": "Uk7pQylwo7MW",
        "outputId": "9889de8d-9d88-49d0-9eed-cbed2575f290"
      },
      "id": "Uk7pQylwo7MW",
      "execution_count": 29,
      "outputs": [
        {
          "output_type": "stream",
          "name": "stdout",
          "text": [
            "12345\n",
            "1234\n",
            "123\n",
            "12\n",
            "1\n"
          ]
        }
      ]
    },
    {
      "cell_type": "code",
      "execution_count": null,
      "id": "6c15a148",
      "metadata": {
        "id": "6c15a148"
      },
      "outputs": [],
      "source": [
        "1\n",
        "23\n",
        "456\n",
        "78910"
      ]
    },
    {
      "cell_type": "code",
      "source": [
        "n = 1\n",
        "for i in range (1, 5, 1):\n",
        "  for j in range (1, i + 1, 1):\n",
        "    print(n, end = '')\n",
        "    n += 1\n",
        "  print()"
      ],
      "metadata": {
        "colab": {
          "base_uri": "https://localhost:8080/"
        },
        "id": "SeR83_CbqoXX",
        "outputId": "0c579176-3e14-4b64-b8c3-8f4e01232554"
      },
      "id": "SeR83_CbqoXX",
      "execution_count": 53,
      "outputs": [
        {
          "output_type": "stream",
          "name": "stdout",
          "text": [
            "1\n",
            "23\n",
            "456\n",
            "78910\n"
          ]
        }
      ]
    },
    {
      "cell_type": "code",
      "execution_count": null,
      "id": "1641ffd9",
      "metadata": {
        "id": "1641ffd9"
      },
      "outputs": [],
      "source": [
        "    *\n",
        "   **\n",
        "  ***\n",
        " ****\n",
        "*****"
      ]
    },
    {
      "cell_type": "code",
      "source": [
        "for i in range (1, 5 + 1, 1):\n",
        "  for j in range (1, 5-i+1, 1):\n",
        "    print(\" \", end = \"\")\n",
        "  for k in range (1, i+1, 1):\n",
        "    print(\"*\", end = \"\")\n",
        "  print()"
      ],
      "metadata": {
        "colab": {
          "base_uri": "https://localhost:8080/"
        },
        "id": "CYFHvKYpvw_k",
        "outputId": "92ab36ff-09a6-4ab2-933e-150805bcf751"
      },
      "id": "CYFHvKYpvw_k",
      "execution_count": 59,
      "outputs": [
        {
          "output_type": "stream",
          "name": "stdout",
          "text": [
            "    *\n",
            "   **\n",
            "  ***\n",
            " ****\n",
            "*****\n"
          ]
        }
      ]
    },
    {
      "cell_type": "code",
      "execution_count": null,
      "id": "5c0576d0",
      "metadata": {
        "id": "5c0576d0"
      },
      "outputs": [],
      "source": [
        "    *\n",
        "   ***\n",
        "  *****\n",
        " *******\n",
        "*********"
      ]
    },
    {
      "cell_type": "code",
      "source": [
        "for i in range (1, 5 + 1, 1):\n",
        "  for j in range (1, 5-i+1, 1):\n",
        "    print(\" \", end = \"\")\n",
        "  for k in range (1, 2*i, 1):\n",
        "    print(\"*\", end = \"\")\n",
        "  print()"
      ],
      "metadata": {
        "colab": {
          "base_uri": "https://localhost:8080/"
        },
        "id": "TVaaPlu7y3QB",
        "outputId": "33ab9684-62a3-4c42-f073-a450ab530cc2"
      },
      "id": "TVaaPlu7y3QB",
      "execution_count": 64,
      "outputs": [
        {
          "output_type": "stream",
          "name": "stdout",
          "text": [
            "    *\n",
            "   ***\n",
            "  *****\n",
            " *******\n",
            "*********\n"
          ]
        }
      ]
    },
    {
      "cell_type": "code",
      "execution_count": null,
      "id": "8c3a635d",
      "metadata": {
        "id": "8c3a635d"
      },
      "outputs": [],
      "source": [
        "    *\n",
        "   ***\n",
        "  *****\n",
        " *******\n",
        "*********\n",
        " *******\n",
        "  *****\n",
        "   ***\n",
        "    *"
      ]
    },
    {
      "cell_type": "code",
      "source": [
        "for i in range (1, 5 + 1, 1):\n",
        "  for j in range (1, 5-i+1, 1):\n",
        "    print(\" \", end = \"\")\n",
        "  for k in range (1, 2*i, 1):\n",
        "    print(\"*\", end = \"\")\n",
        "  print()\n",
        "for i in range (4, 0, -1):\n",
        "  for j in range (5-i+1, 1, -1):\n",
        "    print(\" \", end = \"\")\n",
        "  for k in range (2*i, 1, -1):\n",
        "    print(\"*\", end = \"\")\n",
        "  print()"
      ],
      "metadata": {
        "colab": {
          "base_uri": "https://localhost:8080/"
        },
        "id": "OXcOXrb9zg3A",
        "outputId": "16e39299-9dd4-4c57-b3df-1ea63761baa4"
      },
      "id": "OXcOXrb9zg3A",
      "execution_count": 77,
      "outputs": [
        {
          "output_type": "stream",
          "name": "stdout",
          "text": [
            "    *\n",
            "   ***\n",
            "  *****\n",
            " *******\n",
            "*********\n",
            " *******\n",
            "  *****\n",
            "   ***\n",
            "    *\n"
          ]
        }
      ]
    }
  ],
  "metadata": {
    "kernelspec": {
      "display_name": "Python 3",
      "language": "python",
      "name": "python3"
    },
    "language_info": {
      "codemirror_mode": {
        "name": "ipython",
        "version": 3
      },
      "file_extension": ".py",
      "mimetype": "text/x-python",
      "name": "python",
      "nbconvert_exporter": "python",
      "pygments_lexer": "ipython3",
      "version": "3.8.10"
    },
    "colab": {
      "provenance": []
    }
  },
  "nbformat": 4,
  "nbformat_minor": 5
}