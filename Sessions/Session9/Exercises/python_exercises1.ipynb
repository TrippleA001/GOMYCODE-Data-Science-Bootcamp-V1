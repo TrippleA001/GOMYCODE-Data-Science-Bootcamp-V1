{
  "nbformat": 4,
  "nbformat_minor": 0,
  "metadata": {
    "colab": {
      "provenance": []
    },
    "kernelspec": {
      "name": "python3",
      "display_name": "Python 3"
    },
    "language_info": {
      "name": "python"
    }
  },
  "cells": [
    {
      "cell_type": "markdown",
      "source": [
        "WAP to enter a number from user and print its absolute value.\n"
      ],
      "metadata": {
        "id": "W2qu1lzZasm4"
      }
    },
    {
      "cell_type": "code",
      "execution_count": 1,
      "metadata": {
        "colab": {
          "base_uri": "https://localhost:8080/"
        },
        "id": "PJQml7L6arWU",
        "outputId": "4880a624-ff80-4494-c62b-5b83dc48719c"
      },
      "outputs": [
        {
          "output_type": "stream",
          "name": "stdout",
          "text": [
            "insert a number:\n",
            "-100\n",
            "Your number in absolute form is 100\n"
          ]
        }
      ],
      "source": [
        "print(\"Your number in absolute form is\", abs(int(input(\"insert a number: \"))))"
      ]
    },
    {
      "cell_type": "markdown",
      "source": [
        "WAP to enter a year from user and check if it is leap year of not."
      ],
      "metadata": {
        "id": "7mjbseYPa3IF"
      }
    },
    {
      "cell_type": "code",
      "source": [
        "year = int(input(\"insert a year number: \"))\n",
        "if year % 4 == 0 and (year % 100 != 0 or year % 400 == 0):\n",
        "    print(year, \"is a leap year\")\n",
        "else:\n",
        "    print(year, \"is not a leap year\")"
      ],
      "metadata": {
        "colab": {
          "base_uri": "https://localhost:8080/"
        },
        "id": "0zFJHES4a3tk",
        "outputId": "a4804e12-433c-4037-81ed-0df35a3b56c3"
      },
      "execution_count": 3,
      "outputs": [
        {
          "output_type": "stream",
          "name": "stdout",
          "text": [
            "insert a year number:\n",
            "2000\n",
            "2000 is a leap year\n"
          ]
        }
      ]
    },
    {
      "cell_type": "markdown",
      "source": [
        "WAP to enter the age of 3 person and print oldest and yougest among them."
      ],
      "metadata": {
        "id": "NxUsSZvVbouB"
      }
    },
    {
      "cell_type": "code",
      "source": [
        "n = 3\n",
        "for i in range(n):\n",
        "  if i == 0:\n",
        "    max = min = int(input(f\"enter age #{i+1}: \"))\n",
        "  else:\n",
        "    age = int(input(f\"enter age #{i+1}: \"))\n",
        "    if age < min:\n",
        "      min = age\n",
        "    elif age > max:\n",
        "      max = age\n",
        "\n",
        "print(f\"max age is {max}, min age is {min}\")"
      ],
      "metadata": {
        "colab": {
          "base_uri": "https://localhost:8080/"
        },
        "id": "htzXoy2cboat",
        "outputId": "4742baf7-9ee2-4414-e97a-2905951d0de2"
      },
      "execution_count": 6,
      "outputs": [
        {
          "output_type": "stream",
          "name": "stdout",
          "text": [
            "enter age #1: 48\n",
            "enter age #2: 39\n",
            "enter age #3: 9\n",
            "enter age #4: 32\n",
            "enter age #5: 7\n",
            "max age is 48, min age is 7\n"
          ]
        }
      ]
    },
    {
      "cell_type": "markdown",
      "source": [
        "WAP to enter 5 numbers from user and print sum of them."
      ],
      "metadata": {
        "id": "1dqRZECteBqp"
      }
    },
    {
      "cell_type": "code",
      "source": [
        "n = 5\n",
        "sum = 0\n",
        "for i in range(n):\n",
        "  sum += int(input(f\"enter value #{i+1}: \"))\n",
        "\n",
        "print(f\"the total sum is {sum}\")"
      ],
      "metadata": {
        "colab": {
          "base_uri": "https://localhost:8080/"
        },
        "id": "E6bwhjD1eCQM",
        "outputId": "d8fdb583-af4a-46dd-83e9-4a9545b0c89b"
      },
      "execution_count": 8,
      "outputs": [
        {
          "output_type": "stream",
          "name": "stdout",
          "text": [
            "enter value #1: 10\n",
            "enter value #2: 20\n",
            "enter value #3: 30\n",
            "enter value #4: 40\n",
            "enter value #5: 50\n",
            "the total sum is 150\n"
          ]
        }
      ]
    },
    {
      "cell_type": "markdown",
      "source": [
        "create a code that take operation from the user + or = or - or * \n",
        "then take two numbers and make this calculation"
      ],
      "metadata": {
        "id": "w8hmgq9Hep9J"
      }
    },
    {
      "cell_type": "code",
      "source": [
        "n = float(input(\"enter 1st number: \"))\n",
        "m = float(input(\"enter 2nd number: \"))\n",
        "op = input(\"enter operation: \")\n",
        "\n",
        "match op:\n",
        "    case '+':\n",
        "        result = n + m\n",
        "    case '-':\n",
        "        result = n - m\n",
        "    case '*':\n",
        "        result = n * m\n",
        "    case '/':\n",
        "        result = n / m\n",
        "    case '**':\n",
        "        result = n ** m\n",
        "    case '//':\n",
        "        result = n // m\n",
        "    case '%':\n",
        "        result = n % m\n",
        "    case _:\n",
        "        result = None\n",
        "\n",
        "if result is not None:\n",
        "    print(f\"{n} {op} {m} = {result:.2f}\")\n",
        "else:\n",
        "    print(\"Invalid operation\")"
      ],
      "metadata": {
        "colab": {
          "base_uri": "https://localhost:8080/"
        },
        "id": "m7RdO1sHepvq",
        "outputId": "88ac3c96-7f28-4276-d2bf-da93d4db00d7"
      },
      "execution_count": 11,
      "outputs": [
        {
          "output_type": "stream",
          "name": "stdout",
          "text": [
            "enter 1st number: 9\n",
            "enter 2nd number: 2\n",
            "enter operation: *\n",
            "9.0 * 2.0 = 18.00\n"
          ]
        }
      ]
    },
    {
      "cell_type": "markdown",
      "source": [
        "Write a program to find the given number is positive or negative"
      ],
      "metadata": {
        "id": "SMBgUKVAjP_g"
      }
    },
    {
      "cell_type": "code",
      "source": [
        "n = int(input(\"insert number: \"))\n",
        "if n > 0:\n",
        "    print(\"positive\")\n",
        "elif n < 0:\n",
        "  print(\"negative\")\n",
        "else:\n",
        "    print(\"zero\")"
      ],
      "metadata": {
        "colab": {
          "base_uri": "https://localhost:8080/"
        },
        "id": "Gi--IGQJjRbG",
        "outputId": "bf7d4015-e350-4a34-b0e5-c99b66df9fc3"
      },
      "execution_count": 12,
      "outputs": [
        {
          "output_type": "stream",
          "name": "stdout",
          "text": [
            "insert number: 1\n",
            "positive\n"
          ]
        }
      ]
    }
  ]
}